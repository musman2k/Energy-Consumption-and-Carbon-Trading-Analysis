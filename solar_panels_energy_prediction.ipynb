{
  "nbformat": 4,
  "nbformat_minor": 0,
  "metadata": {
    "colab": {
      "provenance": []
    },
    "kernelspec": {
      "name": "python3",
      "display_name": "Python 3"
    },
    "language_info": {
      "name": "python"
    }
  },
  "cells": [
    {
      "cell_type": "code",
      "source": [
        "!pip install pyspark"
      ],
      "metadata": {
        "colab": {
          "base_uri": "https://localhost:8080/"
        },
        "id": "SaXnDmhkunIO",
        "outputId": "9912e3ad-8667-452e-c359-d9d9f08c1ef0"
      },
      "execution_count": 1,
      "outputs": [
        {
          "output_type": "stream",
          "name": "stdout",
          "text": [
            "Collecting pyspark\n",
            "  Downloading pyspark-3.5.1.tar.gz (317.0 MB)\n",
            "\u001b[2K     \u001b[90m━━━━━━━━━━━━━━━━━━━━━━━━━━━━━━━━━━━━━━━━\u001b[0m \u001b[32m317.0/317.0 MB\u001b[0m \u001b[31m4.2 MB/s\u001b[0m eta \u001b[36m0:00:00\u001b[0m\n",
            "\u001b[?25h  Preparing metadata (setup.py) ... \u001b[?25l\u001b[?25hdone\n",
            "Requirement already satisfied: py4j==0.10.9.7 in /usr/local/lib/python3.10/dist-packages (from pyspark) (0.10.9.7)\n",
            "Building wheels for collected packages: pyspark\n",
            "  Building wheel for pyspark (setup.py) ... \u001b[?25l\u001b[?25hdone\n",
            "  Created wheel for pyspark: filename=pyspark-3.5.1-py2.py3-none-any.whl size=317488491 sha256=86b895961a9c75dfe9f4db11b817db296bace6e6c9d3391bc191b4ed1a3dce12\n",
            "  Stored in directory: /root/.cache/pip/wheels/80/1d/60/2c256ed38dddce2fdd93be545214a63e02fbd8d74fb0b7f3a6\n",
            "Successfully built pyspark\n",
            "Installing collected packages: pyspark\n",
            "Successfully installed pyspark-3.5.1\n"
          ]
        }
      ]
    },
    {
      "cell_type": "code",
      "source": [
        "!pip install fpdf"
      ],
      "metadata": {
        "colab": {
          "base_uri": "https://localhost:8080/"
        },
        "id": "DNQysN8-xv4e",
        "outputId": "4558e6e3-1a3f-4908-b6c0-81fcc8c1a9bb"
      },
      "execution_count": 10,
      "outputs": [
        {
          "output_type": "stream",
          "name": "stdout",
          "text": [
            "Collecting fpdf\n",
            "  Downloading fpdf-1.7.2.tar.gz (39 kB)\n",
            "  Preparing metadata (setup.py) ... \u001b[?25l\u001b[?25hdone\n",
            "Building wheels for collected packages: fpdf\n",
            "  Building wheel for fpdf (setup.py) ... \u001b[?25l\u001b[?25hdone\n",
            "  Created wheel for fpdf: filename=fpdf-1.7.2-py2.py3-none-any.whl size=40702 sha256=0ea61ca62fe0d3dd8c0610d0951749dcea29063f4adbee4026defa8f1fe3302c\n",
            "  Stored in directory: /root/.cache/pip/wheels/f9/95/ba/f418094659025eb9611f17cbcaf2334236bf39a0c3453ea455\n",
            "Successfully built fpdf\n",
            "Installing collected packages: fpdf\n",
            "Successfully installed fpdf-1.7.2\n"
          ]
        }
      ]
    },
    {
      "cell_type": "code",
      "source": [
        "import pandas as pd\n",
        "\n",
        "xlsx_file_path = '/content/Pakistan Services PC.xlsx'\n",
        "\n",
        "csv_file_path = '/content/Pakistan Services PC.csv'\n",
        "\n",
        "df = pd.read_excel(xlsx_file_path)\n",
        "\n",
        "df.to_csv(csv_file_path, index=False)\n",
        "\n",
        "print(f\"File converted and saved to {csv_file_path}\")"
      ],
      "metadata": {
        "colab": {
          "base_uri": "https://localhost:8080/"
        },
        "id": "v1PmCVq_zGx4",
        "outputId": "abd749fb-23d6-43fb-aa75-ad48a181d99f"
      },
      "execution_count": 54,
      "outputs": [
        {
          "output_type": "stream",
          "name": "stdout",
          "text": [
            "File converted and saved to /content/Pakistan Services PC.csv\n"
          ]
        }
      ]
    },
    {
      "cell_type": "code",
      "source": [
        "from pyspark.sql import SparkSession\n",
        "from pyspark.sql.functions import col, hour, dayofweek, month\n",
        "from pyspark.ml.feature import VectorAssembler\n",
        "from pyspark.ml.regression import LinearRegression\n",
        "from pyspark.ml.evaluation import RegressionEvaluator\n",
        "import matplotlib.pyplot as plt\n",
        "import pandas as pd\n",
        "from fpdf import FPDF\n",
        "import seaborn as sns\n",
        "import plotly.express as px\n",
        "from matplotlib_venn import venn2\n",
        "from datetime import datetime"
      ],
      "metadata": {
        "id": "iRwIgwhnx1f8"
      },
      "execution_count": 55,
      "outputs": []
    },
    {
      "cell_type": "code",
      "source": [
        "spark = SparkSession.builder.appName(\"EnergyDataAnalysisReport\").getOrCreate()"
      ],
      "metadata": {
        "id": "hbeMlU_mx31m"
      },
      "execution_count": 57,
      "outputs": []
    },
    {
      "cell_type": "code",
      "source": [
        "data_path = \"/content/Pakistan Services PC.csv\"\n",
        "df = spark.read.csv(data_path, header=True, inferSchema=True)"
      ],
      "metadata": {
        "id": "KksouyzNx8SQ"
      },
      "execution_count": 58,
      "outputs": []
    },
    {
      "cell_type": "code",
      "source": [
        "df"
      ],
      "metadata": {
        "colab": {
          "base_uri": "https://localhost:8080/"
        },
        "id": "nIArgTZN7nSr",
        "outputId": "24484591-0ef5-4235-fc00-cc8d3659ad81"
      },
      "execution_count": 73,
      "outputs": [
        {
          "output_type": "execute_result",
          "data": {
            "text/plain": [
              "DataFrame[Statistical Period: timestamp, Global Irradiation (kWh/㎡): double, Average Temperature(°C): double, Theoretical Yield (kWh): double, PV Yield (kWh): double, Inverter Yield (kWh): double, Export (kWh): double, Consumed (kWh): double, Loss Due to Export Limitation (kWh): int, Loss Due to Export Limitation(PKR): int, Revenue (PKR): double, Device Name: string, Surplus Energy (kWh): double, Revenue from Sales: double, Cost of Purchases: double, Net Revenue: double, Hour: int, DayOfWeek: int, Month: int]"
            ]
          },
          "metadata": {},
          "execution_count": 73
        }
      ]
    },
    {
      "cell_type": "code",
      "source": [
        "df.printSchema()"
      ],
      "metadata": {
        "colab": {
          "base_uri": "https://localhost:8080/"
        },
        "id": "82q34-Z5yIJv",
        "outputId": "87ffd261-1a71-46eb-8ce9-8217190e6be1"
      },
      "execution_count": 59,
      "outputs": [
        {
          "output_type": "stream",
          "name": "stdout",
          "text": [
            "root\n",
            " |-- Statistical Period: timestamp (nullable = true)\n",
            " |-- Global Irradiation (kWh/㎡): double (nullable = true)\n",
            " |-- Average Temperature(°C): double (nullable = true)\n",
            " |-- Theoretical Yield (kWh): double (nullable = true)\n",
            " |-- PV Yield (kWh): double (nullable = true)\n",
            " |--  Inverter Yield (kWh): double (nullable = true)\n",
            " |-- Export (kWh): double (nullable = true)\n",
            " |-- Consumed (kWh): double (nullable = true)\n",
            " |-- Loss Due to Export Limitation (kWh): integer (nullable = true)\n",
            " |-- Loss Due to Export Limitation(PKR): integer (nullable = true)\n",
            " |-- Revenue (PKR): double (nullable = true)\n",
            " |-- Device Name: string (nullable = true)\n",
            "\n"
          ]
        }
      ]
    },
    {
      "cell_type": "code",
      "source": [
        "df = df.withColumnRenamed(\" Inverter Yield (kWh)\", \"Inverter Yield (kWh)\")\n",
        "df = df.select(\n",
        "    \"Statistical Period\",\n",
        "    \"Global Irradiation (kWh/㎡)\",\n",
        "    \"Average Temperature(°C)\",\n",
        "    \"Theoretical Yield (kWh)\",\n",
        "    \"PV Yield (kWh)\",\n",
        "    \"Inverter Yield (kWh)\",\n",
        "    \"Export (kWh)\",\n",
        "    \"Consumed (kWh)\",\n",
        "    \"Loss Due to Export Limitation (kWh)\",\n",
        "    \"Loss Due to Export Limitation(PKR)\",\n",
        "    \"Revenue (PKR)\",\n",
        "    \"Device Name\"\n",
        ")\n"
      ],
      "metadata": {
        "id": "H_YAbjkkx_Sl"
      },
      "execution_count": 60,
      "outputs": []
    },
    {
      "cell_type": "code",
      "source": [
        "df = df.withColumn(\"Surplus Energy (kWh)\", col(\"PV Yield (kWh)\") - col(\"Consumed (kWh)\"))\n",
        "df = df.withColumn(\"Revenue from Sales\", col(\"Export (kWh)\") * col(\"Revenue (PKR)\"))\n",
        "df = df.withColumn(\"Cost of Purchases\", col(\"Consumed (kWh)\") * col(\"Revenue (PKR)\"))\n",
        "df = df.withColumn(\"Net Revenue\", col(\"Revenue from Sales\") - col(\"Cost of Purchases\"))\n",
        "\n",
        "pdf = df.toPandas()"
      ],
      "metadata": {
        "id": "GfZ2iT4kz9vk"
      },
      "execution_count": 61,
      "outputs": []
    },
    {
      "cell_type": "code",
      "source": [
        "plt.figure(figsize=(10, 6))\n",
        "plt.hist(pdf[\"PV Yield (kWh)\"], bins=50, color='skyblue', edgecolor='black')\n",
        "plt.title(\"Histogram of PV Yield\")\n",
        "plt.xlabel(\"PV Yield (kWh)\")\n",
        "plt.ylabel(\"Frequency\")\n",
        "plt.savefig(\"histogram_pv_yield.png\")\n",
        "plt.close()"
      ],
      "metadata": {
        "id": "jibB5P0j0MOu"
      },
      "execution_count": 62,
      "outputs": []
    },
    {
      "cell_type": "code",
      "source": [
        "pdf['Month'] = pd.to_datetime(pdf['Statistical Period']).dt.month\n",
        "avg_pv_yield = pdf.groupby('Month')['PV Yield (kWh)'].mean()\n",
        "avg_pv_yield.plot(kind='bar', color='skyblue', edgecolor='black', figsize=(10, 6))\n",
        "plt.title(\"Average PV Yield per Month\")\n",
        "plt.xlabel(\"Month\")\n",
        "plt.ylabel(\"Average PV Yield (kWh)\")\n",
        "plt.savefig(\"bar_avg_pv_yield.png\")\n",
        "plt.close()"
      ],
      "metadata": {
        "id": "KUj0H-m90QW1"
      },
      "execution_count": 63,
      "outputs": []
    },
    {
      "cell_type": "code",
      "source": [
        "set1 = set(pdf[pdf['PV Yield (kWh)'] > 50].index)\n",
        "set2 = set(pdf[pdf['Consumed (kWh)'] > 50].index)\n",
        "plt.figure(figsize=(10, 6))\n",
        "venn2([set1, set2], ('High PV Yield', 'High Consumption'))\n",
        "plt.title(\"Venn Diagram of High PV Yield and High Consumption\")\n",
        "plt.savefig(\"venn_diagram.png\")\n",
        "plt.close()"
      ],
      "metadata": {
        "id": "OSUX4KPR3f0r"
      },
      "execution_count": 64,
      "outputs": []
    },
    {
      "cell_type": "code",
      "source": [
        "plt.figure(figsize=(10, 6))\n",
        "plt.plot(pdf['Statistical Period'], pdf['PV Yield (kWh)'], color='skyblue', marker='o')\n",
        "plt.title(\"Line Plot of PV Yield over Time\")\n",
        "plt.xlabel(\"Date\")\n",
        "plt.ylabel(\"PV Yield (kWh)\")\n",
        "plt.savefig(\"line_plot.png\")\n",
        "plt.close()\n"
      ],
      "metadata": {
        "id": "Qf1nQdVU3i8L"
      },
      "execution_count": 65,
      "outputs": []
    },
    {
      "cell_type": "code",
      "source": [
        "plt.figure(figsize=(10, 6))\n",
        "sns.boxplot(x='Month', y='Revenue (PKR)', data=pdf, palette='Set3')\n",
        "plt.title(\"Box Plot of Revenue per Month\")\n",
        "plt.xlabel(\"Month\")\n",
        "plt.ylabel(\"Revenue (PKR)\")\n",
        "plt.savefig(\"box_plot.png\")\n",
        "plt.close()"
      ],
      "metadata": {
        "colab": {
          "base_uri": "https://localhost:8080/"
        },
        "id": "TWZKLBbW3ql1",
        "outputId": "a1aadc56-287a-4736-9790-f8d985e1a0a7"
      },
      "execution_count": 67,
      "outputs": [
        {
          "output_type": "stream",
          "name": "stderr",
          "text": [
            "<ipython-input-67-e4c4ea441bf9>:2: FutureWarning:\n",
            "\n",
            "\n",
            "\n",
            "Passing `palette` without assigning `hue` is deprecated and will be removed in v0.14.0. Assign the `x` variable to `hue` and set `legend=False` for the same effect.\n",
            "\n",
            "\n"
          ]
        }
      ]
    },
    {
      "cell_type": "code",
      "source": [
        "df = df.withColumn(\"Hour\", hour(\"Statistical Period\"))\n",
        "df = df.withColumn(\"DayOfWeek\", dayofweek(\"Statistical Period\"))\n",
        "df = df.withColumn(\"Month\", month(\"Statistical Period\"))"
      ],
      "metadata": {
        "id": "Z85sO-Ad01Eu"
      },
      "execution_count": 68,
      "outputs": []
    },
    {
      "cell_type": "code",
      "source": [
        "assembler = VectorAssembler(inputCols=[\"Hour\", \"DayOfWeek\", \"Month\", \"PV Yield (kWh)\"], outputCol=\"features\")\n",
        "data = assembler.transform(df)\n",
        "train_data, test_data = data.randomSplit([0.8, 0.2], seed=1234)\n",
        "\n",
        "lr = LinearRegression(featuresCol=\"features\", labelCol=\"Consumed (kWh)\")\n",
        "lr_model = lr.fit(train_data)\n",
        "predictions = lr_model.transform(test_data)\n",
        "\n",
        "evaluator = RegressionEvaluator(labelCol=\"Consumed (kWh)\", predictionCol=\"prediction\", metricName=\"rmse\")\n",
        "rmse = evaluator.evaluate(predictions)\n",
        "print(f\"Root Mean Squared Error (RMSE) on test data = {rmse}\")\n",
        "\n",
        "coefficients = lr_model.coefficients.toArray()\n",
        "intercept = lr_model.intercept"
      ],
      "metadata": {
        "colab": {
          "base_uri": "https://localhost:8080/"
        },
        "id": "_9tXYzee1EVG",
        "outputId": "916db815-8089-4531-a68d-1f3edd8d5a1a"
      },
      "execution_count": 69,
      "outputs": [
        {
          "output_type": "stream",
          "name": "stdout",
          "text": [
            "Root Mean Squared Error (RMSE) on test data = 11.700273346927577\n"
          ]
        }
      ]
    },
    {
      "cell_type": "code",
      "source": [
        "class PDFReport(FPDF):\n",
        "    def header(self):\n",
        "        self.set_font('Arial', 'B', 12)\n",
        "        self.cell(0, 10, 'Energy Data Analysis Report', 0, 1, 'C')\n",
        "\n",
        "    def chapter_title(self, title):\n",
        "        self.set_font('Arial', 'B', 12)\n",
        "        self.cell(0, 10, title, 0, 1, 'L')\n",
        "        self.ln(5)\n",
        "\n",
        "    def chapter_body(self, body):\n",
        "        self.set_font('Arial', '', 12)\n",
        "        self.multi_cell(0, 10, body)\n",
        "        self.ln()\n",
        "\n",
        "    def add_image(self, image_path, title):\n",
        "        self.add_page()\n",
        "        self.chapter_title(title)\n",
        "        self.image(image_path, x=None, y=None, w=180, h=100)"
      ],
      "metadata": {
        "id": "nB4jpEbD1FQu"
      },
      "execution_count": 70,
      "outputs": []
    },
    {
      "cell_type": "code",
      "source": [
        "pdf_report = PDFReport()"
      ],
      "metadata": {
        "id": "FOE5zObw1KMm"
      },
      "execution_count": 71,
      "outputs": []
    },
    {
      "cell_type": "code",
      "source": [
        "pdf_report.add_page()\n",
        "pdf_report.chapter_title(\"Introduction\")\n",
        "intro_text = \"This report provides an analysis of energy production, consumption, and financial metrics. \" \\\n",
        "             \"Visualizations and predictive analysis have been performed using PySpark and the data is presented in the following sections.\"\n",
        "pdf_report.chapter_body(intro_text)\n"
      ],
      "metadata": {
        "id": "une3FiGG1jZH"
      },
      "execution_count": 72,
      "outputs": []
    },
    {
      "cell_type": "code",
      "source": [
        "pdf_report.add_image(\"histogram_pv_yield.png\", \"Histogram of PV Yield\")\n",
        "pdf_report.add_image(\"bar_avg_pv_yield.png\", \"Average PV Yield per Month\")"
      ],
      "metadata": {
        "id": "I6KdM12v1kd0"
      },
      "execution_count": 41,
      "outputs": []
    },
    {
      "cell_type": "code",
      "source": [
        "pdf_report.add_page()\n",
        "pdf_report.chapter_title(\"Predictive Analysis\")\n",
        "predictive_text = f\"The predictive model was built using Linear Regression. The model's Root Mean Squared Error (RMSE) on the test data is {rmse:.2f}. \" \\\n",
        "                  f\"The coefficients of the model are: {coefficients} and the intercept is {intercept:.2f}.\"\n",
        "pdf_report.chapter_body(predictive_text)"
      ],
      "metadata": {
        "id": "zKL2l2Xo1phT"
      },
      "execution_count": 42,
      "outputs": []
    },
    {
      "cell_type": "code",
      "source": [
        "pdf_report.output(\"EnergyDataAnalysisReport.pdf\")\n",
        "\n",
        "spark.stop()"
      ],
      "metadata": {
        "id": "oJRgNjpu1sO-"
      },
      "execution_count": 43,
      "outputs": []
    }
  ]
}